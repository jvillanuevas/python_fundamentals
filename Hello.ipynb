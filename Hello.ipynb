{
  "cells": [
    {
      "cell_type": "code",
      "source": [
        "a = \"Mi nombre es Jesus Villanueva\"\r\n",
        "b = \"La medida de lo que somos, es lo que hacemos con lo que tenemos\"\r\n",
        "print(a)\r\n",
        "print(b)"
      ],
      "outputs": [
        {
          "output_type": "display_data",
          "data": {
            "application/vnd.livy.statement-meta+json": {
              "spark_pool": "SPKSmallCAPlab1",
              "session_id": "7",
              "statement_id": 3,
              "state": "finished",
              "livy_statement_state": "available",
              "queued_time": "2023-07-10T18:25:32.9686501Z",
              "session_start_time": "2023-07-10T18:25:33.0266561Z",
              "execution_start_time": "2023-07-10T18:25:33.6798164Z",
              "execution_finish_time": "2023-07-10T18:25:33.8516524Z",
              "spark_jobs": null,
              "parent_msg_id": "4ec53335-9e46-404c-a2db-901a14ede92f"
            },
            "text/plain": "StatementMeta(SPKSmallCAPlab1, 7, 3, Finished, Available)"
          },
          "metadata": {}
        },
        {
          "output_type": "stream",
          "name": "stdout",
          "text": [
            "Mi nombre es Jesus Villanueva\nLa medida de lo que somos, es lo que hacemos con lo que tenemos\n"
          ]
        }
      ],
      "execution_count": 2,
      "metadata": {}
    }
  ],
  "metadata": {
    "language_info": {
      "name": "python"
    },
    "kernelspec": {
      "name": "synapse_pyspark",
      "language": "Python",
      "display_name": "Synapse PySpark"
    },
    "kernel_info": {
      "name": "synapse_pyspark"
    },
    "save_output": true,
    "synapse_widget": {
      "version": "0.1",
      "state": {}
    }
  },
  "nbformat": 4,
  "nbformat_minor": 2
}
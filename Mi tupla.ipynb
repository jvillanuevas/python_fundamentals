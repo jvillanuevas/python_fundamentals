{
  "cells": [
    {
      "cell_type": "code",
      "source": [
        "#Parte 1\r\n",
        "Mi_tupla = (\"Jesus\" , 7, 26.4, True)\r\n",
        "print(Mi_tupla)\r\n",
        "\r\n",
        "#Parte 2\r\n",
        "Mi_lista = list(Mi_tupla)\r\n",
        "print(Mi_lista)\r\n",
        "\r\n",
        "#Parte 3\r\n",
        "Mi_diccionario = {}\r\n",
        "for i in range(len(Mi_lista)): Mi_diccionario[i+1]=Mi_lista[i]\r\n",
        "print(Mi_diccionario)"
      ],
      "outputs": [
        {
          "output_type": "display_data",
          "data": {
            "application/vnd.livy.statement-meta+json": {
              "spark_pool": "SPKSmallCAPlab1",
              "session_id": "16",
              "statement_id": 6,
              "state": "finished",
              "livy_statement_state": "available",
              "queued_time": "2023-07-10T22:01:35.7327638Z",
              "session_start_time": null,
              "execution_start_time": "2023-07-10T22:01:35.9049616Z",
              "execution_finish_time": "2023-07-10T22:01:36.0965222Z",
              "spark_jobs": null,
              "parent_msg_id": "b91922e9-4f73-4c06-8926-88dcc22b6e88"
            },
            "text/plain": "StatementMeta(SPKSmallCAPlab1, 16, 6, Finished, Available)"
          },
          "metadata": {}
        },
        {
          "output_type": "stream",
          "name": "stdout",
          "text": [
            "('Jesus', 7, 26.4, True)\n['Jesus', 7, 26.4, True]\n{1: 'Jesus', 2: 7, 3: 26.4, 4: True}\n"
          ]
        }
      ],
      "execution_count": 8,
      "metadata": {}
    }
  ],
  "metadata": {
    "language_info": {
      "name": "python"
    },
    "kernelspec": {
      "name": "synapse_pyspark",
      "language": "Python",
      "display_name": "Synapse PySpark"
    },
    "kernel_info": {
      "name": "synapse_pyspark"
    },
    "save_output": true,
    "synapse_widget": {
      "version": "0.1",
      "state": {}
    }
  },
  "nbformat": 4,
  "nbformat_minor": 2
}
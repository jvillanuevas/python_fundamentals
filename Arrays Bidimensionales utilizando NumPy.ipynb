{
  "cells": [
    {
      "cell_type": "code",
      "source": [
        "import numpy as np\r\n",
        "#Crea una matriz bidimensional llamada \"matriz3x3\"\r\n",
        "matriz_3x3 = np.arange(9).reshape(3,3)\r\n",
        "print(matriz_3x3)\r\n",
        "#Crear una matriz identidad de 6x6\r\n",
        "matriz_identidad = np.identity(6)\r\n",
        "print(matriz_identidad)"
      ],
      "outputs": [
        {
          "output_type": "display_data",
          "data": {
            "application/vnd.livy.statement-meta+json": {
              "spark_pool": "SPK00",
              "session_id": "27",
              "statement_id": 7,
              "state": "finished",
              "livy_statement_state": "available",
              "queued_time": "2023-07-17T21:46:11.1703881Z",
              "session_start_time": null,
              "execution_start_time": "2023-07-17T21:46:11.3130329Z",
              "execution_finish_time": "2023-07-17T21:46:11.4931518Z",
              "spark_jobs": null,
              "parent_msg_id": "4a93a566-c32f-47f9-a734-ce9c3829f738"
            },
            "text/plain": "StatementMeta(SPK00, 27, 7, Finished, Available)"
          },
          "metadata": {}
        },
        {
          "output_type": "stream",
          "name": "stdout",
          "text": [
            "[[0 1 2]\n [3 4 5]\n [6 7 8]]\n[[1. 0. 0. 0. 0. 0.]\n [0. 1. 0. 0. 0. 0.]\n [0. 0. 1. 0. 0. 0.]\n [0. 0. 0. 1. 0. 0.]\n [0. 0. 0. 0. 1. 0.]\n [0. 0. 0. 0. 0. 1.]]\n"
          ]
        }
      ],
      "execution_count": 6,
      "metadata": {}
    }
  ],
  "metadata": {
    "language_info": {
      "name": "python"
    },
    "kernelspec": {
      "name": "synapse_pyspark",
      "language": "Python",
      "display_name": "Synapse PySpark"
    },
    "kernel_info": {
      "name": "synapse_pyspark"
    },
    "save_output": true,
    "synapse_widget": {
      "version": "0.1",
      "state": {}
    }
  },
  "nbformat": 4,
  "nbformat_minor": 2
}
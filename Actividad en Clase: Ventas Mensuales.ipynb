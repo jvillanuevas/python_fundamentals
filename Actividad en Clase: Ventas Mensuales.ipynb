{
  "nbformat": 4,
  "nbformat_minor": 0,
  "metadata": {
    "colab": {
      "provenance": [],
      "authorship_tag": "ABX9TyOo+FILAV76HWNsBfl6+Y7K",
      "include_colab_link": true
    },
    "kernelspec": {
      "name": "python3",
      "display_name": "Python 3"
    },
    "language_info": {
      "name": "python"
    }
  },
  "cells": [
    {
      "cell_type": "markdown",
      "metadata": {
        "id": "view-in-github",
        "colab_type": "text"
      },
      "source": [
        "<a href=\"https://colab.research.google.com/github/jvillanuevas/python_fundamentals/blob/main/Actividad%20en%20Clase%3A%20Ventas%20Mensuales.ipynb\" target=\"_parent\"><img src=\"https://colab.research.google.com/assets/colab-badge.svg\" alt=\"Open In Colab\"/></a>"
      ]
    },
    {
      "cell_type": "code",
      "execution_count": 9,
      "metadata": {
        "colab": {
          "base_uri": "https://localhost:8080/"
        },
        "id": "ttUwA5-4txXX",
        "outputId": "e09623be-b1df-4eff-9b99-89bf4f7099d6"
      },
      "outputs": [
        {
          "output_type": "stream",
          "name": "stdout",
          "text": [
            "[[1200 1500  800 2500]\n",
            " [1800 1600  900 2800]\n",
            " [1500 1400  950 2600]\n",
            " [1300 1700  850 2700]\n",
            " [2000 1800  950 2900]\n",
            " [1700 1600  900 2700]\n",
            " [1400 1300  850 2500]\n",
            " [1600 1400 1000 2600]\n",
            " [1800 1700  950 2900]\n",
            " [1900 1500  850 2800]\n",
            " [1700 1600  900 2600]\n",
            " [2100 1800 1000 3000]]\n",
            "[20000 18900 10900 32600]\n"
          ]
        }
      ],
      "source": [
        "# Importar la librería\n",
        "import numpy as np\n",
        "ventas_mensuales = np.array([\n",
        "\n",
        "    [1200, 1500, 800, 2500],\n",
        "\n",
        "    [1800, 1600, 900, 2800],\n",
        "\n",
        "    [1500, 1400, 950, 2600],\n",
        "\n",
        "    [1300, 1700, 850, 2700],\n",
        "\n",
        "    [2000, 1800, 950, 2900],\n",
        "\n",
        "    [1700, 1600, 900, 2700],\n",
        "\n",
        "    [1400, 1300, 850, 2500],\n",
        "\n",
        "    [1600, 1400, 1000, 2600],\n",
        "\n",
        "    [1800, 1700, 950, 2900],\n",
        "\n",
        "    [1900, 1500, 850, 2800],\n",
        "\n",
        "    [1700, 1600, 900, 2600],\n",
        "\n",
        "    [2100, 1800, 1000, 3000]\n",
        "\n",
        "])\n",
        "\n",
        "print(ventas_mensuales)\n",
        "total_ventas_producto = np.sum(ventas_mensuales, axis=0)\n",
        "print(total_ventas_producto)"
      ]
    }
  ]
}
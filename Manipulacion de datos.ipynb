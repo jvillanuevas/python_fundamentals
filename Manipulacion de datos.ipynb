{
  "cells": [
    {
      "cell_type": "code",
      "source": [
        "total = 0\r\n",
        "while True:\r\n",
        "    monto = float(input('Ingrese el monto de la compra:'))\r\n",
        "    if monto == 0:\r\n",
        "        break;\r\n",
        "    if monto < 0:\r\n",
        "        print(\"El valor ingresado no es valido. \")\r\n",
        "        continue;\r\n",
        "    total+= monto\r\n",
        "    if total > 1000:\r\n",
        "        total *= 0.9\r\n",
        "    print(\"Total a pagar:\",total)\r\n",
        "\r\n",
        "\r\n"
      ],
      "outputs": [
        {
          "output_type": "display_data",
          "data": {
            "application/vnd.livy.statement-meta+json": {
              "spark_pool": "SPKSmallCAPlab1",
              "session_id": "126",
              "statement_id": 3,
              "state": "submitted",
              "livy_statement_state": "running",
              "queued_time": "2023-07-19T20:46:59.5364768Z",
              "session_start_time": "2023-07-19T20:46:59.6363542Z",
              "execution_start_time": "2023-07-19T20:46:59.7737665Z",
              "execution_finish_time": null,
              "spark_jobs": null,
              "parent_msg_id": "d231aae7-29a4-4144-b5f7-0003deae453d"
            },
            "text/plain": "StatementMeta(SPKSmallCAPlab1, 126, 3, Submitted, Running)"
          },
          "metadata": {}
        }
      ],
      "execution_count": 2,
      "metadata": {}
    }
  ],
  "metadata": {
    "language_info": {
      "name": "python"
    },
    "kernelspec": {
      "name": "synapse_pyspark",
      "language": "Python",
      "display_name": "Synapse PySpark"
    },
    "kernel_info": {
      "name": "synapse_pyspark"
    },
    "save_output": true,
    "synapse_widget": {
      "version": "0.1",
      "state": {}
    }
  },
  "nbformat": 4,
  "nbformat_minor": 2
}
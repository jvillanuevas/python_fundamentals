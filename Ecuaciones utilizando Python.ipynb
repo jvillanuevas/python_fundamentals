{
  "cells": [
    {
      "cell_type": "code",
      "source": [
        "#Ecuación 1 \"El doble de mi edad tiene 24 años, ¿Cuántos años tengo?\"\r\n",
        "x = 24/2\r\n",
        "print(f\"Tengo {x} años\")"
      ],
      "outputs": [
        {
          "output_type": "display_data",
          "data": {
            "application/vnd.livy.statement-meta+json": {
              "spark_pool": "SPKSmallCAPlab0",
              "session_id": "24",
              "statement_id": 8,
              "state": "finished",
              "livy_statement_state": "available",
              "queued_time": "2023-07-12T22:58:04.0083905Z",
              "session_start_time": null,
              "execution_start_time": "2023-07-12T22:58:04.1599064Z",
              "execution_finish_time": "2023-07-12T22:58:04.3730186Z",
              "spark_jobs": null,
              "parent_msg_id": "258a714a-4319-45af-a12b-6ceb52ffbbf0"
            },
            "text/plain": "StatementMeta(SPKSmallCAPlab0, 24, 8, Finished, Available)"
          },
          "metadata": {}
        },
        {
          "output_type": "stream",
          "name": "stdout",
          "text": [
            "Tengo 12.0 años\n"
          ]
        }
      ],
      "execution_count": 7,
      "metadata": {}
    },
    {
      "cell_type": "code",
      "source": [
        "#Ecuación 2: \"A un tercio de la edad de mi hermana le dismiuyo 15 años para tener la misma edad que yo. Yo tengo 6 años. ¿Qué edad tiene ella?\"\r\n",
        "Mi_edad = 6\r\n",
        "y = (Mi_edad+15)*3\r\n",
        "print(f\"Mi hermana tiene {y} años\")"
      ],
      "outputs": [
        {
          "output_type": "display_data",
          "data": {
            "application/vnd.livy.statement-meta+json": {
              "spark_pool": "SPKSmallCAPlab0",
              "session_id": "24",
              "statement_id": 9,
              "state": "finished",
              "livy_statement_state": "available",
              "queued_time": "2023-07-12T22:58:04.0512564Z",
              "session_start_time": null,
              "execution_start_time": "2023-07-12T22:58:04.5546315Z",
              "execution_finish_time": "2023-07-12T22:58:04.7356729Z",
              "spark_jobs": null,
              "parent_msg_id": "04387134-cab8-4144-a2bb-b1507e5996cf"
            },
            "text/plain": "StatementMeta(SPKSmallCAPlab0, 24, 9, Finished, Available)"
          },
          "metadata": {}
        },
        {
          "output_type": "stream",
          "name": "stdout",
          "text": [
            "Mi hermana tiene 63 años\n"
          ]
        }
      ],
      "execution_count": 8,
      "metadata": {
        "jupyter": {
          "source_hidden": false,
          "outputs_hidden": false
        },
        "nteract": {
          "transient": {
            "deleting": false
          }
        }
      }
    },
    {
      "cell_type": "code",
      "source": [
        "#Utilizando estructuras condicionales (if, else), compara las edades representadas por las variables \"x\" y \"y\" para determinar quién es mayor.\r\n",
        "if x>y:\r\n",
        "    print(\"Soy mayor que mi hermana\")\r\n",
        "if x<y:\r\n",
        "    print(\"Soy menor que mi hermana\")\r\n",
        "else:\r\n",
        "    print(\"Tenemos la misma edad\")"
      ],
      "outputs": [
        {
          "output_type": "display_data",
          "data": {
            "application/vnd.livy.statement-meta+json": {
              "spark_pool": "SPKSmallCAPlab0",
              "session_id": "24",
              "statement_id": 10,
              "state": "finished",
              "livy_statement_state": "available",
              "queued_time": "2023-07-12T23:17:28.2505254Z",
              "session_start_time": "2023-07-12T23:17:28.3239772Z",
              "execution_start_time": "2023-07-12T23:17:28.4689608Z",
              "execution_finish_time": "2023-07-12T23:17:28.6281485Z",
              "spark_jobs": null,
              "parent_msg_id": "6aab09c0-3313-46a6-a55e-8805b1c3875d"
            },
            "text/plain": "StatementMeta(SPKSmallCAPlab0, 24, 10, Finished, Available)"
          },
          "metadata": {}
        },
        {
          "output_type": "stream",
          "name": "stdout",
          "text": [
            "Soy menor que mi hermana\n"
          ]
        }
      ],
      "execution_count": 9,
      "metadata": {
        "jupyter": {
          "source_hidden": false,
          "outputs_hidden": false
        },
        "nteract": {
          "transient": {
            "deleting": false
          }
        }
      }
    }
  ],
  "metadata": {
    "language_info": {
      "name": "python"
    },
    "kernelspec": {
      "name": "synapse_pyspark",
      "language": "Python",
      "display_name": "Synapse PySpark"
    },
    "kernel_info": {
      "name": "synapse_pyspark"
    },
    "save_output": true,
    "synapse_widget": {
      "version": "0.1",
      "state": {}
    }
  },
  "nbformat": 4,
  "nbformat_minor": 2
}
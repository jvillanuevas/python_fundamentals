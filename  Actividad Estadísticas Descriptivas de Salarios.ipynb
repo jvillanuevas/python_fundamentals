{
  "nbformat": 4,
  "nbformat_minor": 0,
  "metadata": {
    "colab": {
      "provenance": [],
      "authorship_tag": "ABX9TyN9zLF6NeWh7vvrVxzTygdw"
    },
    "kernelspec": {
      "name": "python3",
      "display_name": "Python 3"
    },
    "language_info": {
      "name": "python"
    }
  },
  "cells": [
    {
      "cell_type": "code",
      "execution_count": 7,
      "metadata": {
        "colab": {
          "base_uri": "https://localhost:8080/"
        },
        "id": "khJYrgryoEWr",
        "outputId": "42964e60-453b-4f6f-935e-2e069142b191"
      },
      "outputs": [
        {
          "output_type": "stream",
          "name": "stdout",
          "text": [
            "   Nombre  Edad  Salario Genero\n",
            "0   Ringo    45    12000      M\n",
            "1    John    34    14000      M\n",
            "2    Paul    42    13000      M\n",
            "3  Geroge    38    11000      M\n",
            "4    Yoko    47    10000      F\n",
            "El rango es 4000\n",
            "A continuación se mencionan los datos estadisticos de los salarios:\n",
            "count        5.00000\n",
            "mean     12000.00000\n",
            "std       1581.13883\n",
            "min      10000.00000\n",
            "25%      11000.00000\n",
            "50%      12000.00000\n",
            "75%      13000.00000\n",
            "max      14000.00000\n",
            "Name: Salario, dtype: float64\n"
          ]
        }
      ],
      "source": [
        "import pandas as pd\n",
        "salarios={\n",
        "    \"Nombre\":[\"Ringo\",\"John\",\"Paul\",\"Geroge\",\"Yoko\"],\n",
        "    \"Edad\":[45,34,42,38,47],\n",
        "    \"Salario\":[12000,14000,13000,11000,10000],\n",
        "    \"Genero\":[\"M\",\"M\",\"M\",\"M\",\"F\"]\n",
        "}\n",
        "df = pd.DataFrame(salarios)\n",
        "print(df.head())\n",
        "\n",
        "col_salario = df[\"Salario\"]\n",
        "\n",
        "rango = col_salario.max() - col_salario.min()\n",
        "print(f\"El rango es {rango}\")\n",
        "\n",
        "print(\"A continuación se mencionan los datos estadisticos de los salarios:\")\n",
        "print(col_salario.describe())"
      ]
    }
  ]
}
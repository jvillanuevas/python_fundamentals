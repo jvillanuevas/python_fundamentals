{
  "nbformat": 4,
  "nbformat_minor": 0,
  "metadata": {
    "colab": {
      "provenance": [],
      "authorship_tag": "ABX9TyM+fcbYperWUaXMt+UMhz+H"
    },
    "kernelspec": {
      "name": "python3",
      "display_name": "Python 3"
    },
    "language_info": {
      "name": "python"
    }
  },
  "cells": [
    {
      "cell_type": "code",
      "execution_count": 5,
      "metadata": {
        "colab": {
          "base_uri": "https://localhost:8080/"
        },
        "id": "t15LX82MxIoN",
        "outputId": "2cd12122-1b7a-4d4d-ffd0-663ed8778bcb"
      },
      "outputs": [
        {
          "output_type": "stream",
          "name": "stdout",
          "text": [
            "Ingresa los números a evaluar\n",
            "Ingresa el primer numero: 1090\n",
            "Ingresa el segundo numero: 90\n",
            "La suma de los valores :  1180\n",
            "La resta de los valores :  1000\n",
            "La multiplicación de los valores :  98100\n",
            "La división de los valores :  12.11111111111111\n"
          ]
        }
      ],
      "source": [
        "class Calculadora:\n",
        "  def __init__(self, valor_1, valor_2):\n",
        "    self.valor_1 = valor_1\n",
        "    self.valor_2 = valor_2\n",
        "\n",
        "#Definimos el metodo para sumar, restar y multiplicar\n",
        "  def suma(self):\n",
        "    return self.valor_1 + self.valor_2\n",
        "  def resta(self):\n",
        "    return self.valor_1 - self.valor_2\n",
        "  def multiplicacion(self):\n",
        "    return self.valor_1 * self.valor_2\n",
        "\n",
        "#Definimos el metodo para divison\n",
        "  def division(self):\n",
        "    if self.valor_2 != 0:\n",
        "      return self.valor_1 / self.valor_2\n",
        "    else:\n",
        "      return \"El resultado de esta división es indefinido\"\n",
        "\n",
        "#Permitimos ingresar al usuario los valores a evaluar\n",
        "print(\"Ingresa los números a evaluar\")\n",
        "valor_1 = int(input(\"Ingresa el primer numero: \"))\n",
        "valor_2 = int(input(\"Ingresa el segundo numero: \"))\n",
        "\n",
        "calc = Calculadora (valor_1, valor_2)\n",
        "\n",
        "print(\"La suma de los valores : \", calc.suma())\n",
        "print(\"La resta de los valores : \", calc.resta())\n",
        "print(\"La multiplicación de los valores : \", calc.multiplicacion())\n",
        "print(\"La división de los valores : \", calc.division())"
      ]
    }
  ]
}
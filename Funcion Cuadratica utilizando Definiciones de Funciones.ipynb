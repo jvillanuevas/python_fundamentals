{
  "cells": [
    {
      "cell_type": "code",
      "source": [
        "def cuadratica(a,b,c):\r\n",
        "    return 0\r\n",
        "def cuadratica(a,b,c):\r\n",
        "    discriminante = b**2 - 4*a*c\r\n",
        "    return 0\r\n",
        "def cuadratica (a,b,c):\r\n",
        "    discriminante = b**2 - 4*a*c\r\n",
        "    if discriminante < 0:\r\n",
        "        print('La respuesta cuenta con un valor imaginario')\r\n",
        "        return False, False\r\n",
        "    else:\r\n",
        "        x1 = (-b + discriminante ** 0.5) / (2*a)\r\n",
        "        x2 = (-b + discriminante ** 0.5) / (2*a)\r\n",
        "        return x1, x2\r\n",
        "x1, x2 =  cuadratica (1, 4, 4)\r\n",
        "print(x1, x2)\r\n",
        "x1, x2 = cuadratica (1, 2, 5)\r\n",
        "print(x1, x2)"
      ],
      "outputs": [
        {
          "output_type": "display_data",
          "data": {
            "application/vnd.livy.statement-meta+json": {
              "spark_pool": "SPKSmallCAPlab1",
              "session_id": "126",
              "statement_id": 4,
              "state": "submitted",
              "livy_statement_state": "waiting",
              "queued_time": "2023-07-19T23:18:02.0553343Z",
              "session_start_time": "2023-07-19T23:18:02.1569582Z",
              "execution_start_time": "2023-07-19T23:18:02.2829922Z",
              "execution_finish_time": null,
              "spark_jobs": null,
              "parent_msg_id": "a11121ef-047f-4f43-8a47-0ea3b1a9f3b9"
            },
            "text/plain": "StatementMeta(SPKSmallCAPlab1, 126, 4, Submitted, Waiting)"
          },
          "metadata": {}
        }
      ],
      "execution_count": 3,
      "metadata": {}
    }
  ],
  "metadata": {
    "language_info": {
      "name": "python"
    },
    "kernelspec": {
      "name": "synapse_pyspark",
      "language": "Python",
      "display_name": "Synapse PySpark"
    },
    "kernel_info": {
      "name": "synapse_pyspark"
    },
    "save_output": true,
    "synapse_widget": {
      "version": "0.1",
      "state": {}
    }
  },
  "nbformat": 4,
  "nbformat_minor": 2
}
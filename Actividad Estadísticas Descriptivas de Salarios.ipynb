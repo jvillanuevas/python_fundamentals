{
  "nbformat": 4,
  "nbformat_minor": 0,
  "metadata": {
    "colab": {
      "provenance": [],
      "authorship_tag": "ABX9TyM4tpZvEi47l7vM2Aj0VEWh"
    },
    "kernelspec": {
      "name": "python3",
      "display_name": "Python 3"
    },
    "language_info": {
      "name": "python"
    }
  },
  "cells": [
    {
      "cell_type": "code",
      "execution_count": 4,
      "metadata": {
        "colab": {
          "base_uri": "https://localhost:8080/"
        },
        "id": "khJYrgryoEWr",
        "outputId": "2a3a3fc9-632c-427f-ed15-fe0f7d80b2f4"
      },
      "outputs": [
        {
          "output_type": "stream",
          "name": "stdout",
          "text": [
            "   Nombre  Edad  Salario Genero\n",
            "0   Ringo    45    12000      M\n",
            "1    John    34    14000      M\n",
            "2    Paul    42    13000      M\n",
            "3  Geroge    38    11000      M\n",
            "4    Yoko    47    10000      F\n",
            "El rango es 4000\n"
          ]
        }
      ],
      "source": [
        "import pandas as pd\n",
        "salarios={\n",
        "    \"Nombre\":[\"Ringo\",\"John\",\"Paul\",\"Geroge\",\"Yoko\"],\n",
        "    \"Edad\":[45,34,42,38,47],\n",
        "    \"Salario\":[12000,14000,13000,11000,10000],\n",
        "    \"Genero\":[\"M\",\"M\",\"M\",\"M\",\"F\"]\n",
        "}\n",
        "df = pd.DataFrame(salarios)\n",
        "print(df.head())\n",
        "\n",
        "col_salario = df[\"Salario\"]\n",
        "\n",
        "rango = col_salario.max() - col_salario.min()\n",
        "print(f\"El rango es {rango}\")"
      ]
    }
  ]
}
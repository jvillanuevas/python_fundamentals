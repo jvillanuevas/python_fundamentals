{
  "cells": [
    {
      "cell_type": "code",
      "source": [
        "diccionario_base = {\"Juan\" : 5, \"Pepe\" : 20, \"Adela\" : 1, \"Marta\" : 200, \"Eduardo\" : 3}\r\n",
        "for i in diccionario_base:\r\n",
        "    nombre = i\r\n",
        "    print(f\"Nombre: {nombre}\")\r\n",
        "    numero = diccionario_base[i]\r\n",
        "    print(f\"Numero: {numero}\")\r\n",
        "valores = diccionario_base.values()\r\n",
        "minimo = min(valores)\r\n",
        "maximo = max(valores)\r\n",
        "print(f\"El valor mas pequeño de la lista : {minimo}\")\r\n",
        "print(f\"El valor mas grande de la lista : {maximo}\") "
      ],
      "outputs": [
        {
          "output_type": "display_data",
          "data": {
            "application/vnd.livy.statement-meta+json": {
              "spark_pool": "SPK00",
              "session_id": "40",
              "statement_id": 2,
              "state": "finished",
              "livy_statement_state": "available",
              "queued_time": "2023-07-20T15:42:58.137778Z",
              "session_start_time": "2023-07-20T15:42:58.1953719Z",
              "execution_start_time": "2023-07-20T15:46:38.2091479Z",
              "execution_finish_time": "2023-07-20T15:46:38.4194556Z",
              "spark_jobs": null,
              "parent_msg_id": "e18fd2c7-9ecf-4d4e-9239-05f2334d39c6"
            },
            "text/plain": "StatementMeta(SPK00, 40, 2, Finished, Available)"
          },
          "metadata": {}
        },
        {
          "output_type": "stream",
          "name": "stdout",
          "text": [
            "Nombre: Juan\nNumero: 5\nNombre: Pepe\nNumero: 20\nNombre: Adela\nNumero: 1\nNombre: Marta\nNumero: 200\nNombre: Eduardo\nNumero: 3\n"
          ]
        }
      ],
      "execution_count": 1,
      "metadata": {}
    }
  ],
  "metadata": {
    "language_info": {
      "name": "python"
    },
    "kernelspec": {
      "name": "synapse_pyspark",
      "language": "Python",
      "display_name": "Synapse PySpark"
    },
    "kernel_info": {
      "name": "synapse_pyspark"
    },
    "save_output": true,
    "synapse_widget": {
      "version": "0.1",
      "state": {}
    }
  },
  "nbformat": 4,
  "nbformat_minor": 2
}